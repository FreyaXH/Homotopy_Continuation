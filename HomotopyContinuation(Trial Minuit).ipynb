{
 "cells": [
  {
   "cell_type": "code",
   "execution_count": 1,
   "metadata": {},
   "outputs": [],
   "source": [
    "import scipy as sp\n",
    "import numpy as np\n",
    "import sympy as sy\n",
    "import scipy.integrate as spi\n",
    "from sympy.abc import symbols\n",
    "import scipy.optimize as spo\n",
    "from sympy.utilities.lambdify import lambdify \n",
    "import itertools as it\n",
    "import time\n",
    "import matplotlib.pyplot as plt\n",
    "import iminuit as im"
   ]
  },
  {
   "cell_type": "code",
   "execution_count": 2,
   "metadata": {},
   "outputs": [],
   "source": [
    "import warnings\n",
    "warnings.filterwarnings('ignore')"
   ]
  },
  {
   "cell_type": "code",
   "execution_count": 13,
   "metadata": {},
   "outputs": [],
   "source": [
    "t,x,y, z, w, h, a,b,c,d, e, f, g,h = symbols('t,x,y, z, w, h, a,b,c,d, e,f,g,h', real = True)"
   ]
  },
  {
   "cell_type": "code",
   "execution_count": 4,
   "metadata": {},
   "outputs": [],
   "source": [
    "#construct homotopy\n",
    "def H(t, G, F, gamma):\n",
    "    return [(1 - t)*G[i] + gamma*t*F[i] for i in range(len(G))]\n",
    "\n",
    "#for degree 3 polynomial, do we need to generalise for more than one variable??\n",
    "def G(x_array):\n",
    "    func_listG = [i**3 - 1 for i in x_array]\n",
    "    return func_listG\n",
    "\n",
    "#construct inital starting systems for different number of starting systems\n",
    "def F3(x_array):\n",
    "    return [x_array[0]**3 - 6*x_array[1] + np.pi*x_array[2]**2, x_array[1]**3 + x_array[2]**2 + 8*x_array[0], x_array[2]**3 \\\n",
    "            + x_array[0]*x_array[1]*x_array[2] + np.pi]\n",
    "\n",
    "def F4(x_array):\n",
    "    return [x_array[0]**3 - 6*x_array[1] + np.pi*x_array[2]**2 + np.pi*x_array[3]**2, x_array[1]**3 + x_array[2]**2 + 8*x_array[0], x_array[2]**3 \\\n",
    "            + x_array[0]*x_array[1]*x_array[2] + np.pi, x_array[3]**3 - np.pi]\n",
    "\n",
    "def F2predictortest(x_array):\n",
    "    return [x_array[0] - 10, x_array[1] - 10]\n",
    "\n",
    "def F2(x_array):\n",
    "    return [x_array[0]**3 - 6*x_array[1] + np.pi, x_array[1]**3 + 8*x_array[0] + 76]\n",
    "\n",
    "def F2Easy(x_array):\n",
    "    return [x_array[0]**2  + np.pi, x_array[1]**2 - 76] \n",
    "\n",
    "def F1(x_array):\n",
    "    return [x_array[0]**3 + np.pi + x_array[0]**2 - x_array[0]]\n",
    "\n",
    "def gamma_generate():\n",
    "    real = np.random.rand()\n",
    "    im = np.sqrt(1- real**2)\n",
    "    return real + im*1j\n",
    "\n",
    "def G_roots_find(n):\n",
    "    root_list = [1, np.exp(1j*2*np.pi/3), np.exp(1j*2*np.pi*2/3)]\n",
    "    return [i for i in it.product(root_list, repeat = n)]\n",
    "\n",
    "def split_function(func, expansion_array, expansion_variables):\n",
    "    \n",
    "    im_real_func = func(expansion_array)\n",
    "    full_array = sum([abs(sy.re(i_re)) for i_re in im_real_func] + [abs(sy.im(i_im)) for i_im in im_real_func])\n",
    "    \n",
    "    full_func = lambdify(expansion_variables, full_array)\n",
    "    \n",
    "    return full_func\n"
   ]
  },
  {
   "cell_type": "code",
   "execution_count": 46,
   "metadata": {},
   "outputs": [],
   "source": [
    "def Homotopy_Continuation(t, x_array, F, N, expansion_array, expansion_variables, tolerance = 1e-10, tolerance_zero = 1e-10, ratio_tolerance = 1e-5,\\\n",
    "                          N_ratio_tolerance = 50, debug = False, corrector_Newtons = True):\n",
    "    \n",
    "    time_start = time.time()\n",
    "    \n",
    "    #count the number of roots\n",
    "    num = 0\n",
    "    delta_t = 1/N\n",
    "    n = len(x_array)\n",
    "    gamma = gamma_generate()\n",
    "    gamma= 0.6 + 0.8j\n",
    "    G_roots = G_roots_find(n)\n",
    "    \n",
    "    #construct homotopy\n",
    "    H_func = H(t, G(x_array), F(x_array), gamma)\n",
    "    \n",
    "    #first derivative of H\n",
    "    H_diff_x = sy.Matrix([[H_func[i].diff(x_array[j]) for i in range(len(x_array))] for j in range(len(x_array))])\n",
    "    \n",
    "\n",
    "    determinant_H = H_diff_x.det()\n",
    "    \n",
    "    #derivative with respect to t\n",
    "    H_diff_t = sy.Matrix([H_func[i].diff(t) for i in range(len(x_array))])\n",
    "    \n",
    "    #check determinant is not zero so can invert\n",
    "    if abs(determinant_H) == 0:\n",
    "        raise TypeError('The determinant of H is zero!')\n",
    "    \n",
    "    #function of determinant H\n",
    "    det_H = lambdify((t, x_array), determinant_H)\n",
    "    \n",
    "    H_diff_x_inv = H_diff_x**-1\n",
    "    H_diff_inv = -H_diff_x_inv*H_diff_t\n",
    "    \n",
    "    H_Hdiffprime = H_diff_x_inv*sy.Matrix(H_func)\n",
    "    \n",
    "    H_Hdiffprime = lambdify((t, x_array), [H_Hdiffprime[i] for i in range(len(H_Hdiffprime))])\n",
    "        \n",
    "    H_prime = lambdify((t, x_array), [H_diff_inv[i] for i in range(len(H_diff_inv))])\n",
    "    \n",
    "    Hprime_x = lambdify((x_array,t), [H_diff_x[i] for i in range(len(H_diff_x))])    \n",
    "    H_func_1d = lambdify([x_array,t], H_func)\n",
    "    \n",
    "\n",
    "    x_old_arrays = []\n",
    "    x_olds = []\n",
    "    \n",
    "    #run for all roots of starting system\n",
    "    for x_old in G_roots:\n",
    "        x_old_array = []\n",
    "        num += 1\n",
    "            \n",
    "        t_n = 0\n",
    "        \n",
    "        #run for all steps starting at t=0 ending at t=1\n",
    "        while round(t_n,5) < 1:\n",
    "\n",
    "            x_old_array.append(x_old)\n",
    "            t_old = t_n\n",
    "            t_n += delta_t\n",
    "            \n",
    "            if n == 1:\n",
    "                sol = spi.solve_ivp(H_prime, (t_old, t_n), x_old)\n",
    "                sol_x = sol.y[-1][-1]\n",
    "                \n",
    "                H_func_1 = lambdify((x,t), H_func_1d([x], t)[0])\n",
    "                Hprime_x_1 = lambdify((x,t), Hprime_x([x], t)[0])\n",
    "\n",
    "                #x_old = [spo.newton(H_func_1, sol_x, fprime = Hprime_x_1, args=(t_n, ))]\n",
    "            \n",
    "            else:\n",
    "                if abs(det_H(t_n, x_old)) < tolerance_zero:\n",
    "                    raise TypeError('The determinant of H is zero!')\n",
    "                \n",
    "                #perform RK4 method\n",
    "                x_old_predictor=x_old\n",
    "                sol = spi.solve_ivp(H_prime, (t_old, t_n), x_old)\n",
    "                sol_x = sol.y[:,-1]\n",
    "                   \n",
    "            #newton's method\n",
    "            x_old = sol_x\n",
    "            ratio = np.full(n, 1)\n",
    "            N_ratio = 0\n",
    "            delta = np.full(n, ratio_tolerance)\n",
    "            \n",
    "            if corrector_Newtons is True:\n",
    "                \n",
    "                time_newtons_start = time.time()\n",
    "                #tolerance criteria for step size in Newton's Method\n",
    "                while max(ratio) > ratio_tolerance and N_ratio < N_ratio_tolerance:\n",
    "                    if abs(det_H(t_n, x_old)) < tolerance_zero:\n",
    "                        raise TypeError('The determinant of H is zero!')\n",
    "                    x_old_intermediate = x_old - H_Hdiffprime(t_n, x_old)\n",
    "                    delta_old = delta\n",
    "                    delta = abs(x_old_intermediate - x_old)\n",
    "                    ratio = [delta[j]/(delta_old[j] + 1e-10) for j in range(n)]\n",
    "                    x_old = x_old_intermediate\n",
    "                    N_ratio += 1\n",
    "                    #x_old = spo.newton(H_func, sol_x, fprime = Hprime_x, args=(t_n, ))\n",
    "                    \n",
    "                    time_newtons_end = time.time()\n",
    "                if debug:\n",
    "\n",
    "                    print('Time for Newton: {}'.format(time_newtons_end - time_newtons_start))\n",
    "                    \n",
    "            else:\n",
    "                time_minuit_start = time.time()\n",
    "                #iminuit\n",
    "                H_func_t = H(t_n, G(expansion_array), F(expansion_array), gamma)\n",
    "\n",
    "                #split real and imaginary\n",
    "                H_im_real_array = sum([abs(sy.re(i_re)) for i_re in H_func_t] + [abs(sy.im(i_im)) for i_im in H_func_t])\n",
    "\n",
    "                H_func_t_combined = lambdify([expansion_variables], H_im_real_array)\n",
    "\n",
    "                x_old_re_im = []\n",
    "\n",
    "                #split x_old to re and im\n",
    "                for i in range(n):\n",
    "                    x_old_re_im.append(np.real(x_old[i]))\n",
    "                    x_old_re_im.append(np.imag(x_old[i]))\n",
    "                    \n",
    "                string_variables = [str(j) for j in expansion_variables]\n",
    "                #call iminuit function\n",
    "\n",
    "                m = im.Minuit(H_func_t_combined, x_old_re_im, forced_parameters= string_variables, use_array_call=True)\n",
    "                m.migrad()\n",
    "\n",
    "                x_old_im_re_vals = m.values\n",
    "                \n",
    "                x_old = [x_old_im_re_vals[j] + 1j*x_old_im_re_vals[j+1] for j in range(0, 2*n, 2)]\n",
    "                time_minuit_end = time.time()\n",
    "                \n",
    "                if debug:\n",
    "                    print('Time for Minuit: {}'.format(time_minuit_end - time_minuit_start))\n",
    "\n",
    "        #check root is found\n",
    "        remainder = list(map(abs, F(x_old))) \n",
    "\n",
    "        if max(remainder) < tolerance:\n",
    "            x_old = [x_old[i].real if abs(x_old[i].imag) < tolerance_zero else x_old[i] for i in range(len(x_old))]\n",
    "\n",
    "            print('Root {}, \\n{}, \\nAccuracy {}!!\\n'.format(num, x_old, remainder))\n",
    "            x_olds.append(x_old)\n",
    "            x_old_arrays.append(x_old_array)\n",
    "\n",
    "    time_end = time.time()\n",
    "    \n",
    "    print('It took {} s to run!'.format(time_end - time_start))\n",
    "    \n",
    "    return x_olds, x_old_arrays"
   ]
  },
  {
   "cell_type": "code",
   "execution_count": 40,
   "metadata": {
    "scrolled": true
   },
   "outputs": [
    {
     "name": "stdout",
     "output_type": "stream",
     "text": [
      "Root 1, \n",
      "[(-2.3255510470269294-1.0006333453462228j), (-1.038838253209918-2.5287848976712097j), (0.02072989957897064+0.45185182981774386j)], \n",
      "Accuracy [0.001988571530193719, 0.002459507345345748, 0.00042840994878384217]!!\n",
      "\n",
      "Root 2, \n",
      "[(2.3686628518079975-0.9451797094263983j), (1.0500569860841757-2.5135831710570997j), (0.006021392774093052-0.4518231752930794j)], \n",
      "Accuracy [0.0003243291381793329, 0.0003967763825963619, 6.679432875996029e-05]!!\n",
      "\n",
      "Root 3, \n",
      "[(2.368680267906502+0.9451609249568809j), (1.0500331328166217+2.513584450571871j), (0.006015911795646599+0.4518398250465659j)], \n",
      "Accuracy [0.0003458998490837199, 0.00042316264613695724, 7.123397728517817e-05]!!\n",
      "\n",
      "Root 4, \n",
      "[(-2.3255510470269294-1.0006333453462228j), (-1.038838253209918-2.5287848976712097j), (0.02072989957897064+0.45185182981774386j)], \n",
      "Accuracy [0.001988571530193719, 0.002459507345345748, 0.00042840994878384217]!!\n",
      "\n",
      "Root 5, \n",
      "[(-2.3255510470269294-1.0006333453462228j), (-1.038838253209918-2.5287848976712097j), (0.02072989957897064+0.45185182981774386j)], \n",
      "Accuracy [0.001988571530193719, 0.002459507345345748, 0.00042840994878384217]!!\n",
      "\n",
      "Root 6, \n",
      "[(-0.9975688106914845+2.3730911562332504j), (2.5408428203547513-1.038881011691911j), (0.016602318678436204+0.4430606204443749j)], \n",
      "Accuracy [9.675697811580517e-06, 9.862586990397224e-06, 2.3845682725924785e-06]!!\n",
      "\n",
      "Root 7, \n",
      "[(-0.9975688106914845+2.3730911562332504j), (2.5408428203547513-1.038881011691911j), (0.016602318678436204+0.4430606204443749j)], \n",
      "Accuracy [9.675697811580517e-06, 9.862586990397224e-06, 2.3845682725924785e-06]!!\n",
      "\n",
      "Root 8, \n",
      "[(-0.9975688106914845+2.3730911562332504j), (2.5408428203547513-1.038881011691911j), (0.016602318678436204+0.4430606204443749j)], \n",
      "Accuracy [9.675697811580517e-06, 9.862586990397224e-06, 2.3845682725924785e-06]!!\n",
      "\n",
      "Root 9, \n",
      "[(-0.9975688106914845+2.3730911562332504j), (2.5408428203547513-1.038881011691911j), (0.016602318678436204+0.4430606204443749j)], \n",
      "Accuracy [9.675697811580517e-06, 9.862586990397224e-06, 2.3845682725924785e-06]!!\n",
      "\n",
      "Root 10, \n",
      "[(-0.9975688106914845+2.3730911562332504j), (2.5408428203547513-1.038881011691911j), (0.016602318678436204+0.4430606204443749j)], \n",
      "Accuracy [9.675697811580517e-06, 9.862586990397224e-06, 2.3845682725924785e-06]!!\n",
      "\n",
      "Root 11, \n",
      "[(-0.9975688106914845+2.3730911562332504j), (2.5408428203547513-1.038881011691911j), (0.016602318678436204+0.4430606204443749j)], \n",
      "Accuracy [9.675697811580517e-06, 9.862586990397224e-06, 2.3845682725924785e-06]!!\n",
      "\n",
      "Root 12, \n",
      "[(-0.9975688106914845+2.3730911562332504j), (2.5408428203547513-1.038881011691911j), (0.016602318678436204+0.4430606204443749j)], \n",
      "Accuracy [9.675697811580517e-06, 9.862586990397224e-06, 2.3845682725924785e-06]!!\n",
      "\n",
      "Root 13, \n",
      "[(-2.3255510470269294-1.0006333453462228j), (-1.038838253209918-2.5287848976712097j), (0.02072989957897064+0.45185182981774386j)], \n",
      "Accuracy [0.001988571530193719, 0.002459507345345748, 0.00042840994878384217]!!\n",
      "\n",
      "Root 14, \n",
      "[(-1.9219224401723138-1.4687834435146536j), (2.3906384747392155+0.4010715629882762j), (2.07073838399372+1.192383378383372j)], \n",
      "Accuracy [1.3528330643921842e-14, 1.7763568394002505e-15, 7.588599744428075e-15]!!\n",
      "\n",
      "Root 15, \n",
      "[(-2.3255510470269294-1.0006333453462228j), (-1.038838253209918-2.5287848976712097j), (0.02072989957897064+0.45185182981774386j)], \n",
      "Accuracy [0.001988571530193719, 0.002459507345345748, 0.00042840994878384217]!!\n",
      "\n",
      "Root 16, \n",
      "[(-2.3255510470269294-1.0006333453462228j), (-1.038838253209918-2.5287848976712097j), (0.02072989957897064+0.45185182981774386j)], \n",
      "Accuracy [0.001988571530193719, 0.002459507345345748, 0.00042840994878384217]!!\n",
      "\n",
      "Root 17, \n",
      "[(-2.3255076971104898+1.0005228482149384j), (-1.0387910904376436+2.528883512167448j), (0.02068097553145243-0.4517858124009051j)], \n",
      "Accuracy [0.0011931349182016707, 0.0014757604442179307, 0.0002570633721424991]!!\n",
      "\n",
      "Root 18, \n",
      "[(-0.9975688106914845+2.3730911562332504j), (2.5408428203547513-1.038881011691911j), (0.016602318678436204+0.4430606204443749j)], \n",
      "Accuracy [9.675697811580517e-06, 9.862586990397224e-06, 2.3845682725924785e-06]!!\n",
      "\n",
      "Root 19, \n",
      "[(-0.9975688106914845+2.3730911562332504j), (2.5408428203547513-1.038881011691911j), (0.016602318678436204+0.4430606204443749j)], \n",
      "Accuracy [9.675697811580517e-06, 9.862586990397224e-06, 2.3845682725924785e-06]!!\n",
      "\n",
      "Root 20, \n",
      "[(-1.9219224401723138-1.4687834435146534j), (2.3906384747392155+0.401071562988276j), (2.0707383839937203+1.1923833783833717j)], \n",
      "Accuracy [1.7763568394002505e-14, 1.7763568394002505e-15, 7.32410687763558e-15]!!\n",
      "\n",
      "Root 21, \n",
      "[(2.3686802678988843+0.9451609249972852j), (1.050033132847944+2.513584450549757j), (0.006015911788871626+0.45183982501925885j)], \n",
      "Accuracy [0.0003458993452739708, 0.0004231620297731515, 7.123387353227997e-05]!!\n",
      "\n",
      "Root 22, \n",
      "[(-2.3255510470269294-1.0006333453462228j), (-1.038838253209918-2.5287848976712097j), (0.02072989957897064+0.45185182981774386j)], \n",
      "Accuracy [0.001988571530193719, 0.002459507345345748, 0.00042840994878384217]!!\n",
      "\n",
      "Root 23, \n",
      "[(-0.9975688106914845+2.3730911562332504j), (2.5408428203547513-1.038881011691911j), (0.016602318678436204+0.4430606204443749j)], \n",
      "Accuracy [9.675697811580517e-06, 9.862586990397224e-06, 2.3845682725924785e-06]!!\n",
      "\n",
      "Root 24, \n",
      "[(-0.9975688106914845+2.3730911562332504j), (2.5408428203547513-1.038881011691911j), (0.016602318678436204+0.4430606204443749j)], \n",
      "Accuracy [9.675697811580517e-06, 9.862586990397224e-06, 2.3845682725924785e-06]!!\n",
      "\n",
      "Root 25, \n",
      "[(-2.3255510470269294-1.0006333453462228j), (-1.038838253209918-2.5287848976712097j), (0.02072989957897064+0.45185182981774386j)], \n",
      "Accuracy [0.001988571530193719, 0.002459507345345748, 0.00042840994878384217]!!\n",
      "\n",
      "Root 26, \n",
      "[(-2.3255510470269294-1.0006333453462228j), (-1.038838253209918-2.5287848976712097j), (0.02072989957897064+0.45185182981774386j)], \n",
      "Accuracy [0.001988571530193719, 0.002459507345345748, 0.00042840994878384217]!!\n",
      "\n",
      "Root 27, \n",
      "[(-2.3255510471190086-1.0006333451555802j), (-1.0388382530237286-2.528784897729068j), (0.020729899606073014+0.45185182967370763j)], \n",
      "Accuracy [0.0019885670840079544, 0.0024595018455152223, 0.00042840899097411507]!!\n",
      "\n",
      "It took 11.611581563949585 s to run!\n"
     ]
    }
   ],
   "source": [
    "x_sols, x_sols_arrays = Homotopy_Continuation(t, [x,y,z], F3, N=10, expansion_array= [a + 1j*b, c + 1j*d, e + 1j*f], expansion_variables= [a,b, c,d,e,f], \\\n",
    "                                              tolerance = 1, N_ratio_tolerance= 100, ratio_tolerance= 1e-5,debug=False, corrector_Newtons = True)"
   ]
  },
  {
   "cell_type": "code",
   "execution_count": null,
   "metadata": {},
   "outputs": [
    {
     "name": "stdout",
     "output_type": "stream",
     "text": [
      "Root 1, \n",
      "[(-2.947118202403947-4.5654877466220506e-07j), (-3.7426053839971534+8.3337260988158e-07j)], \n",
      "Accuracy [2.1327895626301927e-05, 4.010711770132734e-05]!!\n",
      "\n",
      "Root 2, \n",
      "[(-2.947118202403947-4.5654877466220506e-07j), (-3.7426053839971534+8.3337260988158e-07j)], \n",
      "Accuracy [2.1327895626301927e-05, 4.010711770132734e-05]!!\n",
      "\n",
      "Root 3, \n",
      "[(-2.947118202403947-4.5654877466220506e-07j), (-3.7426053839971534+8.3337260988158e-07j)], \n",
      "Accuracy [2.1327895626301927e-05, 4.010711770132734e-05]!!\n",
      "\n",
      "Root 4, \n",
      "[(-2.947118202403947-4.5654877466220506e-07j), (-3.7426053839971534+8.3337260988158e-07j)], \n",
      "Accuracy [2.1327895626301927e-05, 4.010711770132734e-05]!!\n",
      "\n"
     ]
    }
   ],
   "source": [
    "x_sols, x_sols_arrays = Homotopy_Contin.3uation(t, [x,y], F2, N=1000, expansion_array= [a + 1j*b, c + 1j*d], expansion_variables= [a,b, c,d], \\\n",
    "                                              tolerance = 1000, N_ratio_tolerance= 100, ratio_tolerance= 1e-5,debug=False, corrector_Newtons = False)"
   ]
  },
  {
   "cell_type": "code",
   "execution_count": null,
   "metadata": {},
   "outputs": [],
   "source": [
    "for i in range(0, 6, 2):\n",
    "    print(i)"
   ]
  },
  {
   "cell_type": "code",
   "execution_count": null,
   "metadata": {},
   "outputs": [],
   "source": [
    "H_func_1d = lambdify((x_array,t), H_func)"
   ]
  },
  {
   "cell_type": "code",
   "execution_count": null,
   "metadata": {},
   "outputs": [],
   "source": [
    "def split_function(func, expansion_array, expansion_variables):\n",
    "    \n",
    "    im_real_func = func(expansion_array)\n",
    "    full_array = sum([abs(sy.re(i_re)) for i_re in im_real_func] + [abs(sy.im(i_im)) for i_im in im_real_func])\n",
    "    \n",
    "    full_func = lambdify([expansion_variables], full_array)\n",
    "    \n",
    "    return full_func"
   ]
  },
  {
   "cell_type": "code",
   "execution_count": null,
   "metadata": {},
   "outputs": [],
   "source": [
    "F2real = split_function(F2Easy, [a + 1j*b, c + 1j*d], [a,b,c,d])"
   ]
  },
  {
   "cell_type": "code",
   "execution_count": null,
   "metadata": {},
   "outputs": [],
   "source": [
    "F2real([a,b,c,d])"
   ]
  },
  {
   "cell_type": "code",
   "execution_count": null,
   "metadata": {},
   "outputs": [],
   "source": [
    "hhh = abs(x**2 - 8 + y) + abs(y**2 - 16)"
   ]
  },
  {
   "cell_type": "code",
   "execution_count": null,
   "metadata": {},
   "outputs": [],
   "source": [
    "hhh = lambdify((x, y), hhh"
   ]
  },
  {
   "cell_type": "code",
   "execution_count": null,
   "metadata": {},
   "outputs": [],
   "source": [
    "ggg = ['a','b','c','d']\n",
    "m = im.Minuit(F2real, [1,2,3,4], forced_parameters= ggg, use_array_call=True)\n",
    "m.migrad()\n",
    "new_vals = m.values"
   ]
  },
  {
   "cell_type": "code",
   "execution_count": null,
   "metadata": {},
   "outputs": [],
   "source": [
    "new_vals[1]"
   ]
  },
  {
   "cell_type": "code",
   "execution_count": null,
   "metadata": {},
   "outputs": [],
   "source": [
    "def tryh(x, y, z, g):\n",
    "    return x+y+z+g\n",
    "\n",
    "hi = x**2 + y**3 + b\n",
    "array_y = [x,y]"
   ]
  },
  {
   "cell_type": "code",
   "execution_count": null,
   "metadata": {},
   "outputs": [],
   "source": [
    "argg = [2, 3,4]"
   ]
  },
  {
   "cell_type": "code",
   "execution_count": null,
   "metadata": {},
   "outputs": [],
   "source": [
    "tryh(1, *argg)"
   ]
  },
  {
   "cell_type": "code",
   "execution_count": null,
   "metadata": {},
   "outputs": [],
   "source": [
    "p = 5.66  + 87j"
   ]
  },
  {
   "cell_type": "code",
   "execution_count": null,
   "metadata": {},
   "outputs": [],
   "source": [
    "np.imag(p)"
   ]
  },
  {
   "cell_type": "code",
   "execution_count": null,
   "metadata": {},
   "outputs": [],
   "source": [
    "tryggg = lambdify([x, y, b], hi)"
   ]
  },
  {
   "cell_type": "code",
   "execution_count": null,
   "metadata": {},
   "outputs": [],
   "source": [
    "tryggg(1,2, 1)"
   ]
  },
  {
   "cell_type": "code",
   "execution_count": null,
   "metadata": {},
   "outputs": [],
   "source": []
  }
 ],
 "metadata": {
  "kernelspec": {
   "display_name": "Python 3",
   "language": "python",
   "name": "python3"
  },
  "language_info": {
   "codemirror_mode": {
    "name": "ipython",
    "version": 3
   },
   "file_extension": ".py",
   "mimetype": "text/x-python",
   "name": "python",
   "nbconvert_exporter": "python",
   "pygments_lexer": "ipython3",
   "version": "3.6.6"
  }
 },
 "nbformat": 4,
 "nbformat_minor": 2
}
