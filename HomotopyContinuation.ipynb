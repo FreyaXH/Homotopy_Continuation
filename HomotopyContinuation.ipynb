{
 "cells": [
  {
   "cell_type": "code",
   "execution_count": 165,
   "metadata": {},
   "outputs": [],
   "source": [
    "import scipy as sp\n",
    "import numpy as np\n",
    "import sympy as sy\n",
    "import scipy.integrate as spi\n",
    "from sympy.abc import t,x,y, z\n",
    "import scipy.optimize as spo\n",
    "from sympy.utilities.lambdify import lambdify \n",
    "import itertools as it\n",
    "import time"
   ]
  },
  {
   "cell_type": "code",
   "execution_count": 166,
   "metadata": {},
   "outputs": [],
   "source": [
    "#construct homotopy\n",
    "def H(t, G, F, gamma):\n",
    "    return [(1 - t)*G[i] + gamma*t*F[i] for i in range(len(G))]\n",
    "\n",
    "#for degree 3 polynomial, do we need to generalise for more than one variable??\n",
    "def G(x_array):\n",
    "    func_listG = [i**3 - 1 for i in x_array]\n",
    "    return func_listG\n",
    "\n",
    "#construct inital starting systems for different number of starting systems\n",
    "def F3(x_array):\n",
    "    return [x_array[0]**3 - 6*x_array[1] + np.pi*x_array[2]**2, x_array[1]**3 + x_array[2]**2 + 8*x_array[0], x_array[2]**3 \\\n",
    "            + x_array[0]*x_array[1]*x_array[2] + np.pi]\n",
    "\n",
    "def F2predictortest(x_array):\n",
    "    return [x_array[0] - 10, x_array[1] - 10]\n",
    "\n",
    "def F2(x_array):\n",
    "    return [x_array[0]**3 - 6*x_array[1] + np.pi, x_array[1]**3 + 8*x_array[0] + 76]\n",
    "\n",
    "def F2Easy(x_array):\n",
    "    return [x_array[0]**2  + np.pi, x_array[1]**2 - 76]\n",
    "\n",
    "def F1(x_array):\n",
    "    return [x_array[0]**3 + np.pi + x_array[0]**2 - x_array[0]]\n",
    "\n",
    "def gamma_generate():\n",
    "    real = np.random.rand()\n",
    "    im = np.sqrt(1- real**2)\n",
    "    return real + im*1j\n",
    "\n",
    "def G_roots_find(n):\n",
    "    root_list = [1, np.exp(1j*2*np.pi/3), np.exp(1j*2*np.pi*2/3)]\n",
    "    return [i for i in it.product(root_list, repeat = n)]"
   ]
  },
  {
   "cell_type": "code",
   "execution_count": 167,
   "metadata": {},
   "outputs": [],
   "source": [
    "def Homotopy_Continuation(t, x_array, F, N, tolerance = 1e-10, tolerance_zero = 1e-10, ratio_tolerance = 1e-5,\\\n",
    "                          N_ratio_tolerance = 50, debug = False):\n",
    "    \n",
    "    time_start = time.time()\n",
    "    \n",
    "    #count the number of roots\n",
    "    num = 0\n",
    "    \n",
    "    delta_t = 1/N\n",
    "    n = len(x_array)\n",
    "    gamma = gamma_generate()\n",
    "    gamma= 0.6 + 0.8j\n",
    "    G_roots = G_roots_find(n)\n",
    "    \n",
    "    #construct homotopy\n",
    "    H_func = H(t, G(x_array), F(x_array), gamma)\n",
    "    \n",
    "    #first derivative of H\n",
    "    H_diff_x = sy.Matrix([[H_func[i].diff(x_array[j]) for i in range(len(x_array))] for j in range(len(x_array))])\n",
    "\n",
    "    determinant_H = H_diff_x.det()\n",
    "    \n",
    "    #derivative with respect to t\n",
    "    H_diff_t = sy.Matrix([H_func[i].diff(t) for i in range(len(x_array))])\n",
    "    \n",
    "    #check determinant is not zero so can invert\n",
    "    if abs(determinant_H) == 0:\n",
    "        raise TypeError('The determinant of H is zero!')\n",
    "        \n",
    "    det_H = lambdify((t, x_array), determinant_H)\n",
    "    \n",
    "    H_diff_x_inv = H_diff_x**-1\n",
    "    H_diff_inv = -H_diff_x_inv*H_diff_t\n",
    "    \n",
    "    H_Hdiffprime = H_diff_x_inv*sy.Matrix(H_func)\n",
    "    \n",
    "    H_Hdiffprime = lambdify((t, x_array), [H_Hdiffprime[i] for i in range(len(H_Hdiffprime))])\n",
    "        \n",
    "    H_prime = lambdify((t, x_array), [H_diff_inv[i] for i in range(len(H_diff_inv))])\n",
    "    \n",
    "    Hprime_x = lambdify((x_array,t), [H_diff_x[i] for i in range(len(H_diff_x))])    \n",
    "    H_func_1d = lambdify((x_array,t), H_func)\n",
    "    \n",
    "\n",
    "    x_old_arrays = []\n",
    "    x_olds = []\n",
    "    \n",
    "    #run for all roots of starting system\n",
    "    for x_old in G_roots:\n",
    "        x_old_array = []\n",
    "        num += 1\n",
    "            \n",
    "        t_n = 0\n",
    "        \n",
    "        #run for all steps starting at t=0 ending at t=1\n",
    "        while t_n < 1:\n",
    "\n",
    "            x_old_array.append(x_old)\n",
    "            t_old = t_n\n",
    "            t_n += delta_t\n",
    "            \n",
    "            if n == 1:\n",
    "                sol = spi.solve_ivp(H_prime, (t_old, t_n), x_old)\n",
    "                sol_x = sol.y[-1][-1]\n",
    "                \n",
    "                H_func_1 = lambdify((x,t), H_func_1d([x], t)[0])\n",
    "                Hprime_x_1 = lambdify((x,t), Hprime_x([x], t)[0])\n",
    "\n",
    "                #x_old = [spo.newton(H_func_1, sol_x, fprime = Hprime_x_1, args=(t_n, ))]\n",
    "                \n",
    "            else:\n",
    "                if abs(det_H(t_n, x_old)) < tolerance_zero:\n",
    "                    raise TypeError('The determinant of H is zero!')\n",
    "                \n",
    "                #perform RK4 method\n",
    "                x_old_predictor=x_old\n",
    "                sol = spi.solve_ivp(H_prime, (t_old, t_n), x_old)\n",
    "                sol_x = sol.y[:,-1]\n",
    "                    \n",
    "            #newton's method\n",
    "            x_old = sol_x\n",
    "            ratio = np.full(n, 1)\n",
    "            N_ratio = 0\n",
    "            delta = np.full(n, ratio_tolerance)\n",
    "            \n",
    "            #tolerance criteria for step size in Newton's Method\n",
    "            while max(ratio) > ratio_tolerance and N_ratio < N_ratio_tolerance:\n",
    "                if abs(det_H(t_n, x_old)) < tolerance_zero:\n",
    "                    raise TypeError('The determinant of H is zero!')\n",
    "                x_old_intermediate = x_old - H_Hdiffprime(t_n, x_old)\n",
    "                \n",
    "                delta_old = delta\n",
    "                delta = abs(x_old_intermediate - x_old)\n",
    "                ratio = [delta[j]/(delta_old[j] + 1e-10) for j in range(n)]\n",
    "                x_old = x_old_intermediate\n",
    "                N_ratio += 1\n",
    "                #x_old = spo.newton(H_func, sol_x, fprime = Hprime_x, args=(t_n, ))\n",
    "            if debug:\n",
    "\n",
    "                print('Newtons method took ', N_ratio, ' at step', t_old, \" to \", t_n  )\n",
    "                print('Predictor started at', x_old_predictor)\n",
    "                print('predicted solution', sol_x)\n",
    "                print('reached solution', x_old)\n",
    "        #check root is found\n",
    "        remainder = list(map(abs, F(x_old))) \n",
    "\n",
    "        #if all(rem < tolerance for rem in remainder) is True:\n",
    "        if True:\n",
    "            x_old = [x_old[i].real if abs(x_old[i].imag) < tolerance_zero else x_old[i] for i in range(len(x_old))]\n",
    "            \n",
    "            print('Root {}, \\n{}, \\nAccuracy {}!!\\n'.format(num, x_old, remainder))\n",
    "            x_olds.append(x_old)\n",
    "            x_old_arrays.append(x_old_array)\n",
    "\n",
    "    time_end = time.time()\n",
    "    \n",
    "    print('It took {} s to run!'.format(time_end - time_start))\n",
    "    \n",
    "    return x_olds, x_old_arrays"
   ]
  },
  {
   "cell_type": "code",
   "execution_count": 174,
   "metadata": {},
   "outputs": [
    {
     "name": "stdout",
     "output_type": "stream",
     "text": [
      "Root 1, \n",
      "[(2.3691919954891083+0.9462690838774679j), (1.0504058022080858+2.5125144052837047j), (0.0053823031781055726+0.45129835893952713j)], \n",
      "Accuracy [0.02845169036914106, 0.03470603841203209, 0.0058520293282755455]!!\n",
      "\n",
      "Root 2, \n",
      "[(-2.323590975883396+1.009557579528518j), (-1.046066435051285+2.5242266460247085j), (0.021057602010586977-0.45818427464292516j)], \n",
      "Accuracy [0.21280095870837423, 0.2652587220274862, 0.04554194359017099]!!\n",
      "\n",
      "Root 3, \n",
      "[(2.3676997959311756-0.945045836275847j), (1.0506186074833652-2.514298792964845j), (0.006659756665282005-0.4516310652479465j)], \n",
      "Accuracy [0.02270658226660794, 0.027842259746815846, 0.004686723902000976]!!\n",
      "\n",
      "Root 4, \n",
      "[(-1.9219224401723072+1.4687834435146638j), (2.3906384747392173-0.4010715629882845j), (2.0707383839937252-1.1923833783833937j)], \n",
      "Accuracy [3.652994808745098e-13, 1.706135029904003e-13, 1.364590109437335e-13]!!\n",
      "\n",
      "Root 5, \n",
      "[(-2.327286228991342-0.9992897206236809j), (-1.0368581245145767-2.528458853829756j), (0.021646162508663365+0.4506420578588375j)], \n",
      "Accuracy [0.049163665682259154, 0.060546930104831614, 0.01060242370236663]!!\n",
      "\n",
      "Root 6, \n",
      "[(-2.323825488029837+1.008749787908864j), (-1.045374855423028+2.524623972587434j), (0.021064008958919495-0.45759937902324294j)], \n",
      "Accuracy [0.1933761634749012, 0.24085086389988514, 0.041410970036294716]!!\n",
      "\n",
      "Root 7, \n",
      "[(-0.9975878405663848+2.373201204858617j), (2.5407687485066663-1.0388200170538346j), (0.01662566096869925+0.4429554931515139j)], \n",
      "Accuracy [0.0030073505035861222, 0.0030645814664788953, 0.0007412832090522313]!!\n",
      "\n",
      "Root 8, \n",
      "[(2.36769953513153-0.9450458123847851j), (1.0506187685400992-2.5142989786849888j), (0.006659926281571038-0.45163100526949973j)], \n",
      "Accuracy [0.02271268567601382, 0.027849760296080002, 0.004687986489695477]!!\n",
      "\n",
      "Root 9, \n",
      "[(-0.9975877782159336+2.373201317946063j), (2.540768725720787-1.0388199085171985j), (0.016625606063705244+0.4429553813721045j)], \n",
      "Accuracy [0.0030100753366301197, 0.003067357513815925, 0.0007419549856481255]!!\n",
      "\n",
      "Root 10, \n",
      "[(-1.921922440172307+1.4687834435146638j), (2.3906384747392173-0.40107156298828456j), (2.0707383839937243-1.192383378383394j)], \n",
      "Accuracy [3.658173915517036e-13, 1.7053950819000348e-13, 1.3696390884519782e-13]!!\n",
      "\n",
      "Root 11, \n",
      "[(-0.9975877782159588+2.3732013179460547j), (2.5407687257207754-1.0388199085172183j), (0.016625606063729037+0.4429553813721138j)], \n",
      "Accuracy [0.0030100753365189903, 0.0030673575136953707, 0.0007419549856197502]!!\n",
      "\n",
      "Root 12, \n",
      "[(-1.9219224401723063-1.4687834435146503j), (2.39063847473921+0.4010715629882783j), (2.070738383993707+1.1923833783833786j)], \n",
      "Accuracy [2.4338033538319267e-13, 1.1718571004216928e-13, 9.541202673798768e-14]!!\n",
      "\n",
      "Root 13, \n",
      "[(-2.3245051112635977+1.0075796359928337j), (-1.044144991227154+2.524967094981797j), (0.021301615476913848-0.4566895341748569j)], \n",
      "Accuracy [0.16391615917099747, 0.20376731706197995, 0.035135244902405854]!!\n",
      "\n",
      "Root 14, \n",
      "[(2.3691884403850736+0.946286729405745j), (1.0504194710508576+2.5125049279717544j), (0.0053794622512765575+0.45128642804006575j)], \n",
      "Accuracy [0.028787957509835798, 0.035115480805076045, 0.005921234506815246]!!\n",
      "\n",
      "Root 15, \n",
      "[(-0.9975878405666505+2.3732012048578546j), (2.540768748506921-1.0388200170544795j), (0.016625660968920278+0.44295549315226035j)], \n",
      "Accuracy [0.0030073504845190098, 0.0030645814470527852, 0.0007412832043530188]!!\n",
      "\n",
      "Root 16, \n",
      "[(-0.997649402674382-2.372996846377321j), (2.540843139649811+1.0389876605204604j), (0.01667561959829538-0.44315510573017364j)], \n",
      "Accuracy [0.0033394555897547093, 0.0034044576771531786, 0.0008228832034632097]!!\n",
      "\n",
      "Root 17, \n",
      "[(-2.3272677982980277-0.9992372641833401j), (-1.0368345019520495-2.5285034708013776j), (0.021624435986646713+0.4506103871049908j)], \n",
      "Accuracy [0.04954332993763885, 0.06101548106618085, 0.010684668471898843]!!\n",
      "\n",
      "Root 18, \n",
      "[(-0.9975878405666181+2.3732012048579034j), (2.5407687485069146-1.0388200170544297j), (0.016625660968891384+0.442955493152212j)], \n",
      "Accuracy [0.0030073504856699524, 0.0030645814482232322, 0.0007412832046359659]!!\n",
      "\n",
      "Root 19, \n",
      "[(-0.9976494002181823-2.3729968476990675j), (2.5408431405113867+1.0389876582821582j), (0.016675617293944824-0.4431551043454347j)], \n",
      "Accuracy [0.0033393855526316412, 0.003404386274103707, 0.0008228659472394872]!!\n",
      "\n",
      "Root 20, \n",
      "[(-1.921922440172306-1.4687834435146503j), (2.3906384747392098+0.4010715629882784j), (2.070738383993707+1.1923833783833788j)], \n",
      "Accuracy [2.439048555985037e-13, 1.227872534939355e-13, 9.295371695034977e-14]!!\n",
      "\n",
      "Root 21, \n",
      "[(-2.327286228991339-0.9992897206236978j), (-1.0368581245145894-2.528458853829747j), (0.02164616250866481+0.4506420578588492j)], \n",
      "Accuracy [0.04916366568198376, 0.06054693010449812, 0.010602423702307807]!!\n",
      "\n",
      "Root 22, \n",
      "[(-1.9219224401723072+1.4687834435146638j), (2.3906384747392173-0.40107156298828467j), (2.0707383839937252-1.1923833783833937j)], \n",
      "Accuracy [3.652994808745098e-13, 1.740920330704173e-13, 1.364590109437335e-13]!!\n",
      "\n",
      "Root 23, \n",
      "[(-0.9975877782159588+2.3732013179460547j), (2.5407687257207754-1.0388199085172183j), (0.016625606063729037+0.4429553813721138j)], \n",
      "Accuracy [0.0030100753365189903, 0.0030673575136953707, 0.0007419549856197502]!!\n",
      "\n",
      "Root 24, \n",
      "[(-2.3272862289913414-0.9992897206236804j), (-1.0368581245145765-2.5284588538297563j), (0.021646162508663223+0.4506420578588372j)], \n",
      "Accuracy [0.0491636656822592, 0.0605469301048354, 0.010602423702367999]!!\n",
      "\n",
      "Root 25, \n",
      "[(-2.327286406773301-0.999284113049272j), (-1.0368542761603095-2.5284621915891727j), (0.02164527246099575+0.4506382859636977j)], \n",
      "Accuracy [0.049242623653051903, 0.0606439979139956, 0.010619491800169703]!!\n",
      "\n",
      "Root 26, \n",
      "[(-2.327286228991342-0.9992897206236809j), (-1.0368581245145767-2.528458853829756j), (0.021646162508663365+0.4506420578588375j)], \n",
      "Accuracy [0.049163665682259154, 0.060546930104831614, 0.01060242370236663]!!\n",
      "\n",
      "Root 27, \n",
      "[(-1.921922440172307+1.468783443514664j), (2.3906384747392173-0.4010715629882848j), (2.0707383839937252-1.1923833783833937j)], \n",
      "Accuracy [3.702543019457133e-13, 1.723432354442191e-13, 1.3323860480766694e-13]!!\n",
      "\n",
      "It took 7.070421934127808 s to run!\n"
     ]
    }
   ],
   "source": [
    "x_sols, x_sols_arrays = Homotopy_Continuation(t, [x,y,z], F3, N=5, tolerance = 1, N_ratio_tolerance= 50, ratio_tolerance= 1e-3,debug=False)"
   ]
  },
  {
   "cell_type": "code",
   "execution_count": 11,
   "metadata": {},
   "outputs": [
    {
     "data": {
      "text/plain": [
       "array([-0.33583382+0.85927473j, -0.33583382-0.85927473j,\n",
       "        0.67166764+0.j        ])"
      ]
     },
     "execution_count": 11,
     "metadata": {},
     "output_type": "execute_result"
    }
   ],
   "source": [
    "coeff = [5,0,2,np.pi-6]\n",
    "np.roots(coeff)"
   ]
  },
  {
   "cell_type": "code",
   "execution_count": 7,
   "metadata": {},
   "outputs": [
    {
     "data": {
      "text/plain": [
       "array([-1.30641692+0.j        ,  0.0976529 +0.49559532j,\n",
       "        0.0976529 -0.49559532j])"
      ]
     },
     "execution_count": 7,
     "metadata": {},
     "output_type": "execute_result"
    }
   ],
   "source": [
    "coeff = [9,10,0,3]\n",
    "np.roots(coeff)"
   ]
  },
  {
   "cell_type": "code",
   "execution_count": 8,
   "metadata": {},
   "outputs": [
    {
     "data": {
      "text/plain": [
       "array([3])"
      ]
     },
     "execution_count": 8,
     "metadata": {},
     "output_type": "execute_result"
    }
   ],
   "source": [
    "np.full(1,3)"
   ]
  },
  {
   "cell_type": "code",
   "execution_count": 34,
   "metadata": {},
   "outputs": [
    {
     "data": {
      "text/plain": [
       "10.295630140987"
      ]
     },
     "execution_count": 34,
     "metadata": {},
     "output_type": "execute_result"
    }
   ],
   "source": [
    "abs(5 + 9j)"
   ]
  },
  {
   "cell_type": "code",
   "execution_count": null,
   "metadata": {},
   "outputs": [],
   "source": [
    "[1,2]"
   ]
  }
 ],
 "metadata": {
  "kernelspec": {
   "display_name": "Python 3",
   "language": "python",
   "name": "python3"
  },
  "language_info": {
   "codemirror_mode": {
    "name": "ipython",
    "version": 3
   },
   "file_extension": ".py",
   "mimetype": "text/x-python",
   "name": "python",
   "nbconvert_exporter": "python",
   "pygments_lexer": "ipython3",
   "version": "3.7.6"
  }
 },
 "nbformat": 4,
 "nbformat_minor": 2
}
